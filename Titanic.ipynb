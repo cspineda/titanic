{
 "cells": [
  {
   "cell_type": "markdown",
   "metadata": {},
   "source": [
    "Titanic: Machine Learning from Disaster"
   ]
  },
  {
   "cell_type": "code",
   "execution_count": 139,
   "metadata": {},
   "outputs": [],
   "source": [
    "import numpy as np\n",
    "import pandas as pd\n",
    "import random\n",
    "import scipy\n",
    "from scipy.stats import skew\n",
    "import matplotlib.pyplot as plt\n",
    "import matplotlib.ticker as ticker\n",
    "import seaborn as sns\n",
    "plt.style.use('seaborn')\n",
    "import math\n",
    "%matplotlib inline\n",
    "import warnings\n",
    "warnings.filterwarnings('ignore')"
   ]
  },
  {
   "cell_type": "code",
   "execution_count": 71,
   "metadata": {},
   "outputs": [],
   "source": [
    "# Load Data\n",
    "train = pd.read_csv(\"/Users/cris/Documents/Kaggle/Titanic/train.csv\")\n",
    "test = pd.read_csv(\"/Users/cris/Documents/Kaggle/Titanic/test.csv\")"
   ]
  },
  {
   "cell_type": "code",
   "execution_count": 72,
   "metadata": {},
   "outputs": [
    {
     "name": "stdout",
     "output_type": "stream",
     "text": [
      "Survived\n",
      "0    549\n",
      "1    342\n",
      "Name: PassengerId, dtype: int64\n"
     ]
    },
    {
     "data": {
      "text/plain": [
       "<matplotlib.axes._subplots.AxesSubplot at 0x1a15d80160>"
      ]
     },
     "execution_count": 72,
     "metadata": {},
     "output_type": "execute_result"
    },
    {
     "data": {
      "image/png": "[encoded data removed]",
      "text/plain": [
       "<matplotlib.figure.Figure at 0x1a154fc128>"
      ]
     },
     "metadata": {},
     "output_type": "display_data"
    }
   ],
   "source": [
    "print(train.groupby('Survived')['PassengerId'].count())\n",
    "sns.countplot('Survived', data=train)"
   ]
  },
  {
   "cell_type": "markdown",
   "metadata": {},
   "source": [
    "We can see that we have 342 passengers that survived and 549 passengers that did not"
   ]
  },
  {
   "cell_type": "code",
   "execution_count": 73,
   "metadata": {},
   "outputs": [
    {
     "name": "stdout",
     "output_type": "stream",
     "text": [
      "Train shape: (891, 12); Test shape: (418, 11)\n"
     ]
    },
    {
     "data": {
      "text/html": [
       "<div>\n",
       "<style scoped>\n",
       "    .dataframe tbody tr th:only-of-type {\n",
       "        vertical-align: middle;\n",
       "    }\n",
       "\n",
       "    .dataframe tbody tr th {\n",
       "        vertical-align: top;\n",
       "    }\n",
       "\n",
       "    .dataframe thead th {\n",
       "        text-align: right;\n",
       "    }\n",
       "</style>\n",
       "<table border=\"1\" class=\"dataframe\">\n",
       "  <thead>\n",
       "    <tr style=\"text-align: right;\">\n",
       "      <th></th>\n",
       "      <th>PassengerId</th>\n",
       "      <th>Survived</th>\n",
       "      <th>Pclass</th>\n",
       "      <th>Name</th>\n",
       "      <th>Sex</th>\n",
       "      <th>Age</th>\n",
       "      <th>SibSp</th>\n",
       "      <th>Parch</th>\n",
       "      <th>Ticket</th>\n",
       "      <th>Fare</th>\n",
       "      <th>Cabin</th>\n",
       "      <th>Embarked</th>\n",
       "    </tr>\n",
       "  </thead>\n",
       "  <tbody>\n",
       "    <tr>\n",
       "      <th>0</th>\n",
       "      <td>1</td>\n",
       "      <td>0</td>\n",
       "      <td>3</td>\n",
       "      <td>Braund, Mr. Owen Harris</td>\n",
       "      <td>male</td>\n",
       "      <td>22.0</td>\n",
       "      <td>1</td>\n",
       "      <td>0</td>\n",
       "      <td>A/5 21171</td>\n",
       "      <td>7.2500</td>\n",
       "      <td>NaN</td>\n",
       "      <td>S</td>\n",
       "    </tr>\n",
       "    <tr>\n",
       "      <th>1</th>\n",
       "      <td>2</td>\n",
       "      <td>1</td>\n",
       "      <td>1</td>\n",
       "      <td>Cumings, Mrs. John Bradley (Florence Briggs Th...</td>\n",
       "      <td>female</td>\n",
       "      <td>38.0</td>\n",
       "      <td>1</td>\n",
       "      <td>0</td>\n",
       "      <td>PC 17599</td>\n",
       "      <td>71.2833</td>\n",
       "      <td>C85</td>\n",
       "      <td>C</td>\n",
       "    </tr>\n",
       "    <tr>\n",
       "      <th>2</th>\n",
       "      <td>3</td>\n",
       "      <td>1</td>\n",
       "      <td>3</td>\n",
       "      <td>Heikkinen, Miss. Laina</td>\n",
       "      <td>female</td>\n",
       "      <td>26.0</td>\n",
       "      <td>0</td>\n",
       "      <td>0</td>\n",
       "      <td>STON/O2. 3101282</td>\n",
       "      <td>7.9250</td>\n",
       "      <td>NaN</td>\n",
       "      <td>S</td>\n",
       "    </tr>\n",
       "    <tr>\n",
       "      <th>3</th>\n",
       "      <td>4</td>\n",
       "      <td>1</td>\n",
       "      <td>1</td>\n",
       "      <td>Futrelle, Mrs. Jacques Heath (Lily May Peel)</td>\n",
       "      <td>female</td>\n",
       "      <td>35.0</td>\n",
       "      <td>1</td>\n",
       "      <td>0</td>\n",
       "      <td>113803</td>\n",
       "      <td>53.1000</td>\n",
       "      <td>C123</td>\n",
       "      <td>S</td>\n",
       "    </tr>\n",
       "    <tr>\n",
       "      <th>4</th>\n",
       "      <td>5</td>\n",
       "      <td>0</td>\n",
       "      <td>3</td>\n",
       "      <td>Allen, Mr. William Henry</td>\n",
       "      <td>male</td>\n",
       "      <td>35.0</td>\n",
       "      <td>0</td>\n",
       "      <td>0</td>\n",
       "      <td>373450</td>\n",
       "      <td>8.0500</td>\n",
       "      <td>NaN</td>\n",
       "      <td>S</td>\n",
       "    </tr>\n",
       "  </tbody>\n",
       "</table>\n",
       "</div>"
      ],
      "text/plain": [
       "   PassengerId  Survived  Pclass  \\\n",
       "0            1         0       3   \n",
       "1            2         1       1   \n",
       "2            3         1       3   \n",
       "3            4         1       1   \n",
       "4            5         0       3   \n",
       "\n",
       "                                                Name     Sex   Age  SibSp  \\\n",
       "0                            Braund, Mr. Owen Harris    male  22.0      1   \n",
       "1  Cumings, Mrs. John Bradley (Florence Briggs Th...  female  38.0      1   \n",
       "2                             Heikkinen, Miss. Laina  female  26.0      0   \n",
       "3       Futrelle, Mrs. Jacques Heath (Lily May Peel)  female  35.0      1   \n",
       "4                           Allen, Mr. William Henry    male  35.0      0   \n",
       "\n",
       "   Parch            Ticket     Fare Cabin Embarked  \n",
       "0      0         A/5 21171   7.2500   NaN        S  \n",
       "1      0          PC 17599  71.2833   C85        C  \n",
       "2      0  STON/O2. 3101282   7.9250   NaN        S  \n",
       "3      0            113803  53.1000  C123        S  \n",
       "4      0            373450   8.0500   NaN        S  "
      ]
     },
     "execution_count": 73,
     "metadata": {},
     "output_type": "execute_result"
    }
   ],
   "source": [
    "# take a glimpse of the data\n",
    "print(\"Train shape: {0}; Test shape: {1}\".format(train.shape, test.shape))\n",
    "train.head()"
   ]
  },
  {
   "cell_type": "code",
   "execution_count": 74,
   "metadata": {},
   "outputs": [],
   "source": [
    "# keep the ids incase we need\n",
    "train_id = train['PassengerId']\n",
    "test_id = test['PassengerId']\n",
    "\n",
    "# save Survived\n",
    "Survived = train['Survived']\n",
    "#train = train.drop(['Survived'], axis=1)"
   ]
  },
  {
   "cell_type": "code",
   "execution_count": 75,
   "metadata": {},
   "outputs": [],
   "source": [
    "alldata = [train, test]"
   ]
  },
  {
   "cell_type": "code",
   "execution_count": 76,
   "metadata": {},
   "outputs": [
    {
     "name": "stdout",
     "output_type": "stream",
     "text": [
      "            0        1\n",
      "Cabin     687   object\n",
      "Age       177  float64\n",
      "Embarked    2   object\n",
      "There are 3 columns with missing values\n",
      "None\n",
      "------------------------\n",
      "         0        1\n",
      "Cabin  327   object\n",
      "Age     86  float64\n",
      "Fare     1  float64\n",
      "There are 3 columns with missing values\n",
      "None\n",
      "------------------------\n"
     ]
    }
   ],
   "source": [
    "# create a function to check nulls\n",
    "def check_nulls(df):\n",
    "    nulls = np.sum(df.isnull())\n",
    "    nullcols = nulls.loc[(nulls != 0)]\n",
    "    d_types = df.dtypes.loc[(nulls != 0)]\n",
    "    info = pd.concat([nullcols, d_types], axis=1).sort_values(by=0, ascending=False)\n",
    "    print(info)\n",
    "    print(\"There are\", len(nullcols), \"columns with missing values\")\n",
    "    \n",
    "# use the function    \n",
    "for i in alldata:\n",
    "    print(check_nulls(i))\n",
    "    print(\"------------------------\")"
   ]
  },
  {
   "cell_type": "code",
   "execution_count": null,
   "metadata": {},
   "outputs": [],
   "source": []
  },
  {
   "cell_type": "code",
   "execution_count": 77,
   "metadata": {},
   "outputs": [
    {
     "name": "stdout",
     "output_type": "stream",
     "text": [
      "Empty DataFrame\n",
      "Columns: [0, 1]\n",
      "Index: []\n",
      "There are 0 columns with missing values\n",
      "None\n",
      "------------------------\n",
      "Empty DataFrame\n",
      "Columns: [0, 1]\n",
      "Index: []\n",
      "There are 0 columns with missing values\n",
      "None\n",
      "------------------------\n"
     ]
    }
   ],
   "source": [
    "## Impute NaNs\n",
    "\n",
    "# I want to drop Cabin since majority are nulls BUT many higher tickets have names so we will keep\n",
    "#titanic['Cabin'] = titanic['Cabin'].fillna('unknown')\n",
    "\n",
    "# Embarked\n",
    "# looked at the two missing and will impute where all others in space are\n",
    "train.loc[train.PassengerId == 62, 'Embarked'] = \"C\"\n",
    "train.loc[train.PassengerId == 830, 'Embarked'] = \"S\"\n",
    "\n",
    "# Age\n",
    "#agemed = titanic.groupby('Pclass')['Age'].transform('median')\n",
    "#titanic['Age'] = titanic['Age'].fillna('unknown')\n",
    "\n",
    "# Fare\n",
    "faremed = test.groupby('Pclass')['Fare'].transform('median')\n",
    "test['Fare'] = test['Fare'].fillna(faremed)\n",
    "\n",
    "# family size\n",
    "for data in alldata:\n",
    "    data['Familysize'] = data['SibSp'] + data['Parch'] + 1\n",
    "    \n",
    "# Cabin\n",
    "for data in alldata:\n",
    "    data['Cabin'] = data['Cabin'].fillna('None')\n",
    "    data['Cabin_letter'] = data['Cabin'].str[0]\n",
    "\n",
    "# age\n",
    "fill_list = np.arange(1, 66, 1)\n",
    "for data in alldata:\n",
    "    data['Age'] = data['Age'].fillna(pd.Series(np.random.choice(fill_list, size=len(train.index))))\n",
    "\n",
    "# check again\n",
    "for i in alldata:\n",
    "    print(check_nulls(i))\n",
    "    print(\"------------------------\")"
   ]
  },
  {
   "cell_type": "code",
   "execution_count": 78,
   "metadata": {},
   "outputs": [
    {
     "name": "stdout",
     "output_type": "stream",
     "text": [
      "['\"annie', '\"bessie\"', '\"hannah\"', '\"mary\"', '(\"george', '(\"louis', '(\"mr', '(\"mrs', '(\"philip', '(\"william', '(ada', '(adele', '(agnes', '(alfrida', '(alice', '(alma', '(amelia', '(amy', '(anna', '(annie']\n",
      "There are 1181 tokens in Count Vectorizer\n"
     ]
    }
   ],
   "source": [
    "from sklearn.feature_extraction.text import CountVectorizer\n",
    "\n",
    "# tokens\n",
    "white_space = '\\\\S+(?=\\\\s+)'\n",
    "\n",
    "vectorizer = CountVectorizer(token_pattern=white_space) # add token_pattern=white_space\n",
    "train_names = vectorizer.fit_transform(train.Name) \n",
    "test_names = vectorizer.transform(test.Name)\n",
    "\n",
    "# print the feature names \n",
    "print(vectorizer.get_feature_names()[:20])\n",
    "print(\"There are {} tokens in Count Vectorizer\".format(len(vectorizer.get_feature_names())))"
   ]
  },
  {
   "cell_type": "markdown",
   "metadata": {},
   "source": [
    "**PRE-PROCESSING**\n",
    "\n",
    "Let us turn all the categorical variables into numerical"
   ]
  },
  {
   "cell_type": "code",
   "execution_count": 79,
   "metadata": {},
   "outputs": [],
   "source": [
    "from sklearn import preprocessing\n",
    "\n",
    "# separate all the non numerical values\n",
    "objects = []\n",
    "for i in train.columns:\n",
    "    if train[i].dtype == object:\n",
    "        objects.append(i)\n",
    "\n",
    "# apply LabelEncoder\n",
    "for factor in objects:\n",
    "    train[factor] = preprocessing.LabelEncoder().fit_transform(train[factor].astype(str))\n",
    "    test[factor] = preprocessing.LabelEncoder().fit_transform(test[factor].astype(str))"
   ]
  },
  {
   "cell_type": "code",
   "execution_count": 81,
   "metadata": {},
   "outputs": [
    {
     "data": {
      "image/png": "[encoded data removed]",
      "text/plain": [
       "<matplotlib.figure.Figure at 0x1a15da8550>"
      ]
     },
     "metadata": {},
     "output_type": "display_data"
    }
   ],
   "source": [
    "fig = plt.figure()\n",
    "ax = fig.add_subplot(1,1,1)\n",
    "cax = ax.matshow(train.corr(), interpolation='nearest')\n",
    "fig.colorbar(cax)\n",
    "ax.set_xticklabels([''] + train.columns, rotation=90)\n",
    "ax.set_yticklabels([''] + train.columns)\n",
    "ax.xaxis.set_major_locator(ticker.MultipleLocator(1))\n",
    "ax.yaxis.set_major_locator(ticker.MultipleLocator(1))\n",
    "\n",
    "plt.show()"
   ]
  },
  {
   "cell_type": "code",
   "execution_count": 82,
   "metadata": {},
   "outputs": [
    {
     "data": {
      "text/html": [
       "<div>\n",
       "<style scoped>\n",
       "    .dataframe tbody tr th:only-of-type {\n",
       "        vertical-align: middle;\n",
       "    }\n",
       "\n",
       "    .dataframe tbody tr th {\n",
       "        vertical-align: top;\n",
       "    }\n",
       "\n",
       "    .dataframe thead th {\n",
       "        text-align: right;\n",
       "    }\n",
       "</style>\n",
       "<table border=\"1\" class=\"dataframe\">\n",
       "  <thead>\n",
       "    <tr style=\"text-align: right;\">\n",
       "      <th></th>\n",
       "      <th>Survived</th>\n",
       "      <th>Pclass</th>\n",
       "      <th>Sex</th>\n",
       "      <th>Age</th>\n",
       "      <th>Fare</th>\n",
       "      <th>Embarked</th>\n",
       "      <th>Familysize</th>\n",
       "      <th>Cabin_letter</th>\n",
       "    </tr>\n",
       "  </thead>\n",
       "  <tbody>\n",
       "    <tr>\n",
       "      <th>0</th>\n",
       "      <td>0</td>\n",
       "      <td>3</td>\n",
       "      <td>1</td>\n",
       "      <td>22.0</td>\n",
       "      <td>7.2500</td>\n",
       "      <td>2</td>\n",
       "      <td>2</td>\n",
       "      <td>7</td>\n",
       "    </tr>\n",
       "    <tr>\n",
       "      <th>1</th>\n",
       "      <td>1</td>\n",
       "      <td>1</td>\n",
       "      <td>0</td>\n",
       "      <td>38.0</td>\n",
       "      <td>71.2833</td>\n",
       "      <td>0</td>\n",
       "      <td>2</td>\n",
       "      <td>2</td>\n",
       "    </tr>\n",
       "    <tr>\n",
       "      <th>2</th>\n",
       "      <td>1</td>\n",
       "      <td>3</td>\n",
       "      <td>0</td>\n",
       "      <td>26.0</td>\n",
       "      <td>7.9250</td>\n",
       "      <td>2</td>\n",
       "      <td>1</td>\n",
       "      <td>7</td>\n",
       "    </tr>\n",
       "    <tr>\n",
       "      <th>3</th>\n",
       "      <td>1</td>\n",
       "      <td>1</td>\n",
       "      <td>0</td>\n",
       "      <td>35.0</td>\n",
       "      <td>53.1000</td>\n",
       "      <td>2</td>\n",
       "      <td>2</td>\n",
       "      <td>2</td>\n",
       "    </tr>\n",
       "    <tr>\n",
       "      <th>4</th>\n",
       "      <td>0</td>\n",
       "      <td>3</td>\n",
       "      <td>1</td>\n",
       "      <td>35.0</td>\n",
       "      <td>8.0500</td>\n",
       "      <td>2</td>\n",
       "      <td>1</td>\n",
       "      <td>7</td>\n",
       "    </tr>\n",
       "  </tbody>\n",
       "</table>\n",
       "</div>"
      ],
      "text/plain": [
       "   Survived  Pclass  Sex   Age     Fare  Embarked  Familysize  Cabin_letter\n",
       "0         0       3    1  22.0   7.2500         2           2             7\n",
       "1         1       1    0  38.0  71.2833         0           2             2\n",
       "2         1       3    0  26.0   7.9250         2           1             7\n",
       "3         1       1    0  35.0  53.1000         2           2             2\n",
       "4         0       3    1  35.0   8.0500         2           1             7"
      ]
     },
     "execution_count": 82,
     "metadata": {},
     "output_type": "execute_result"
    }
   ],
   "source": [
    "# get rid of columns that are irrelevent for now\n",
    "cols_to_delete = ['PassengerId', 'Name', 'SibSp', 'Parch', 'Ticket', 'Cabin']\n",
    "\n",
    "train = train.drop(cols_to_delete, axis=1)\n",
    "test = test.drop(cols_to_delete, axis=1)\n",
    "\n",
    "train.head()"
   ]
  },
  {
   "cell_type": "code",
   "execution_count": 84,
   "metadata": {},
   "outputs": [],
   "source": [
    "target = train['Survived'].values\n",
    "train = train.drop('Survived', axis=1)"
   ]
  },
  {
   "cell_type": "code",
   "execution_count": 85,
   "metadata": {},
   "outputs": [],
   "source": [
    "from sklearn.preprocessing import StandardScaler\n",
    "\n",
    "sc = StandardScaler()\n",
    "\n",
    "train = sc.fit_transform(train)\n",
    "test = sc.fit_transform(test)"
   ]
  },
  {
   "cell_type": "raw",
   "metadata": {},
   "source": [
    "from sklearn.preprocessing import MinMaxScaler\n",
    "\n",
    "# apply MinMaxScaler\n",
    "cols_to_scale = ['Age', 'Fare']\n",
    "\n",
    "scaler = MinMaxScaler()\n",
    "\n",
    "train[cols_to_scale] = scaler.fit_transform(train[cols_to_scale])\n",
    "test[cols_to_scale] = scaler.fit_transform(test[cols_to_scale])"
   ]
  },
  {
   "cell_type": "markdown",
   "metadata": {},
   "source": [
    "**MODELS**"
   ]
  },
  {
   "cell_type": "code",
   "execution_count": 86,
   "metadata": {},
   "outputs": [],
   "source": [
    "# model selection:\n",
    "from sklearn.model_selection import StratifiedKFold, cross_val_score, GridSearchCV, RandomizedSearchCV\n",
    "\n",
    "# Models\n",
    "from sklearn.ensemble import RandomForestClassifier, AdaBoostClassifier, VotingClassifier, GradientBoostingClassifier\n",
    "from xgboost import XGBClassifier\n",
    "from sklearn.svm import SVC\n",
    "from sklearn import svm\n",
    "from lightgbm import LGBMClassifier\n",
    "from sklearn.neighbors import KNeighborsClassifier\n",
    "from sklearn.linear_model import LogisticRegression\n",
    "\n",
    "# disciminant\n",
    "from sklearn.discriminant_analysis import LinearDiscriminantAnalysis\n",
    "\n",
    "# Evaluation\n",
    "from sklearn.metrics import accuracy_score\n",
    "\n",
    "from pprint import pprint"
   ]
  },
  {
   "cell_type": "code",
   "execution_count": 87,
   "metadata": {},
   "outputs": [],
   "source": [
    "np.random.seed(7)\n",
    "\n",
    "# KFold cross validation\n",
    "kfold = StratifiedKFold(n_splits=3, random_state=69, shuffle=True)"
   ]
  },
  {
   "cell_type": "markdown",
   "metadata": {},
   "source": [
    "*Logistic Regression*"
   ]
  },
  {
   "cell_type": "code",
   "execution_count": 88,
   "metadata": {},
   "outputs": [
    {
     "name": "stdout",
     "output_type": "stream",
     "text": [
      "[0.77441077 0.76430976 0.81144781]\n",
      "0.7833894500561168\n"
     ]
    }
   ],
   "source": [
    "logr = LogisticRegression()\n",
    "logr_cv = cross_val_score(logr, train, Survived, cv=kfold)\n",
    "\n",
    "print(logr_cv)\n",
    "print(np.mean(logr_cv))"
   ]
  },
  {
   "cell_type": "markdown",
   "metadata": {},
   "source": [
    "**KNN**"
   ]
  },
  {
   "cell_type": "code",
   "execution_count": 89,
   "metadata": {},
   "outputs": [
    {
     "name": "stdout",
     "output_type": "stream",
     "text": [
      "[0.78114478 0.75420875 0.82828283]\n"
     ]
    },
    {
     "data": {
      "text/plain": [
       "0.787878787878788"
      ]
     },
     "execution_count": 89,
     "metadata": {},
     "output_type": "execute_result"
    }
   ],
   "source": [
    "knn = KNeighborsClassifier()\n",
    "knn_cv = cross_val_score(knn, train, Survived, cv=kfold)\n",
    "\n",
    "print(knn_cv)\n",
    "np.mean(knn_cv)"
   ]
  },
  {
   "cell_type": "code",
   "execution_count": 90,
   "metadata": {},
   "outputs": [
    {
     "name": "stdout",
     "output_type": "stream",
     "text": [
      "{'weights': 'uniform', 'n_neighbors': 4}\n",
      "0.8619528619528619\n"
     ]
    },
    {
     "data": {
      "text/plain": [
       "KNeighborsClassifier(algorithm='auto', leaf_size=30, metric='minkowski',\n",
       "           metric_params=None, n_jobs=1, n_neighbors=4, p=2,\n",
       "           weights='uniform')"
      ]
     },
     "execution_count": 90,
     "metadata": {},
     "output_type": "execute_result"
    }
   ],
   "source": [
    "# with random search\n",
    "\n",
    "parameters = {\n",
    "    \"n_neighbors\" : np.arange(1,10,1),\n",
    "    \"weights\" : ['uniform', 'distance']\n",
    "}\n",
    "\n",
    "knn_cv = RandomizedSearchCV(knn, parameters, cv=kfold)\n",
    "knn_cv.fit(train, Survived)\n",
    "\n",
    "print(knn_cv.best_params_)\n",
    "print(knn_cv.score(train, Survived))\n",
    "\n",
    "knn_model = knn_cv.best_estimator_\n",
    "knn_model"
   ]
  },
  {
   "cell_type": "markdown",
   "metadata": {},
   "source": [
    "**SVM**"
   ]
  },
  {
   "cell_type": "raw",
   "metadata": {},
   "source": [
    "# Create SVM classification object \n",
    "model = svm.SVC(kernel='linear')\n",
    "model.fit(train, target)\n",
    "\n",
    "print(\"Test set predictions:\\n {}\".format(y_pred))\n",
    "print(classification_report(train, target))\n",
    "print(\"Model Score: \", model.score(X_test, y_test))"
   ]
  },
  {
   "cell_type": "code",
   "execution_count": 114,
   "metadata": {},
   "outputs": [
    {
     "name": "stdout",
     "output_type": "stream",
     "text": [
      "{'C': 0.01}\n",
      "0.7867564534231201\n"
     ]
    }
   ],
   "source": [
    "# Create SVM classification object \n",
    "svmm = svm.SVC(kernel='linear')\n",
    "\n",
    "parameters = {\n",
    "    'C' : [.001, .01]\n",
    "}\n",
    "\n",
    "svm_cv = GridSearchCV(svmm, parameters, cv=kfold)\n",
    "svm_cv.fit(train, Survived)\n",
    "\n",
    "print(svm_cv.best_params_)\n",
    "print(svm_cv.score(train, Survived))\n",
    "\n",
    "svm_model = svm_cv.best_params_"
   ]
  },
  {
   "cell_type": "raw",
   "metadata": {},
   "source": [
    "# grid search for best parameters\n",
    "\n",
    "parameters = {\n",
    "    'C' : [.0001, .001, .01, 1, 10, 100, 1000]\n",
    "}\n",
    "\n",
    "svm_model = GridSearchCV(svmm, parameters, cv=kfold)\n",
    "svm_model.fit(X, y)\n",
    "\n",
    "print(svm_model.best_params_)\n",
    "print(svm_model.score(X, y))\n",
    "\n",
    "# C100"
   ]
  },
  {
   "cell_type": "markdown",
   "metadata": {},
   "source": [
    "**Random Forest**"
   ]
  },
  {
   "cell_type": "code",
   "execution_count": 100,
   "metadata": {},
   "outputs": [
    {
     "name": "stdout",
     "output_type": "stream",
     "text": [
      "[0.78787879 0.78114478 0.8013468 ]\n"
     ]
    },
    {
     "data": {
      "text/plain": [
       "0.7901234567901234"
      ]
     },
     "execution_count": 100,
     "metadata": {},
     "output_type": "execute_result"
    }
   ],
   "source": [
    "rfc = RandomForestClassifier(n_estimators=500) \n",
    "rfc_cv = cross_val_score(rfc, train, Survived, cv=kfold)\n",
    "\n",
    "print(rfc_cv)\n",
    "np.mean(rfc_cv)"
   ]
  },
  {
   "cell_type": "code",
   "execution_count": 140,
   "metadata": {},
   "outputs": [
    {
     "name": "stdout",
     "output_type": "stream",
     "text": [
      "{'max_depth': array([ 30,  40,  50,  60,  70,  80,  90, 100]),\n",
      " 'max_features': ['auto', 'sqrt'],\n",
      " 'min_samples_leaf': array([1, 2, 3, 4]),\n",
      " 'min_samples_split': array([ 2,  3,  4,  5,  6,  7,  8,  9, 10]),\n",
      " 'n_estimators': [500]}\n",
      "{'n_estimators': 500, 'min_samples_split': 4, 'min_samples_leaf': 2, 'max_features': 'auto', 'max_depth': 90}\n",
      "0.9225589225589226\n"
     ]
    }
   ],
   "source": [
    "# Create the random grid\n",
    "random_grid = {'n_estimators': [500],\n",
    "               'max_depth': np.arange(30,110,10),\n",
    "               'max_features': ['auto', 'sqrt'],\n",
    "               'min_samples_leaf': np.arange(1,5,1),\n",
    "               'min_samples_split': np.arange(2,11,1),\n",
    "}\n",
    "\n",
    "pprint(random_grid)\n",
    "\n",
    "grid = RandomizedSearchCV(rfc, random_grid, cv=kfold, n_jobs=10)\n",
    "grid.fit(train, Survived)\n",
    "\n",
    "print(grid.best_params_)\n",
    "print(grid.score(train, Survived))\n",
    "\n",
    "rf_model = grid.best_estimator_"
   ]
  },
  {
   "cell_type": "code",
   "execution_count": null,
   "metadata": {
    "scrolled": true
   },
   "outputs": [],
   "source": []
  },
  {
   "cell_type": "markdown",
   "metadata": {},
   "source": [
    "*XGBoost*"
   ]
  },
  {
   "cell_type": "code",
   "execution_count": 102,
   "metadata": {},
   "outputs": [
    {
     "name": "stdout",
     "output_type": "stream",
     "text": [
      "Best parameters:  {'learning_rate': 0.01, 'max_depth': 6, 'min_child_weight': 3, 'n_estimators': 600, 'random_state': 69}\n",
      "Score:  0.8922558922558923\n"
     ]
    }
   ],
   "source": [
    "xgb = XGBClassifier()\n",
    "\n",
    "parameters = {\n",
    "    #'objective' : ['binary'],\n",
    "    'n_estimators' : [600],\n",
    "    'learning_rate' : [.01],\n",
    "    'min_child_weight' : [1,2,3],\n",
    "    'max_depth' : [3,4,6],\n",
    "    'random_state' : [69]\n",
    "}\n",
    "\n",
    "xgb_cv = GridSearchCV(xgb, parameters, cv = kfold)\n",
    "xgb_cv.fit(train, Survived)\n",
    "\n",
    "print(\"Best parameters: \", xgb_cv.best_params_)\n",
    "print(\"Score: \", xgb_cv.score(train, Survived))\n",
    "\n",
    "xgb_model = xgb_cv.best_estimator_"
   ]
  },
  {
   "cell_type": "markdown",
   "metadata": {},
   "source": [
    "*LGBM*"
   ]
  },
  {
   "cell_type": "code",
   "execution_count": 118,
   "metadata": {},
   "outputs": [
    {
     "name": "stdout",
     "output_type": "stream",
     "text": [
      "Best parameters:  {'objective': 'binary', 'num_leaves': 31, 'n_estimators': 100, 'learning_rate': 0.3, 'boosting_type': 'gbdt'}\n",
      "Score:  0.9865319865319865\n"
     ]
    }
   ],
   "source": [
    "lgm = LGBMClassifier()\n",
    "\n",
    "grid = {'boosting_type':['gbdt'],\n",
    "        'n_estimators':[100,300,800],\n",
    "        'learning_rate':[0.3,0.6,0.8],\n",
    "        #'min_data_in_leaf':[15,20,35],\n",
    "        #'cat_smooth':[10,20,30],\n",
    "        'num_leaves':[31,40,50],\n",
    "        'objective':['binary']\n",
    "}\n",
    "\n",
    "lgbm_cv = RandomizedSearchCV(lgm, grid, cv = kfold)             \n",
    "lgbm_cv.fit(train,Survived)\n",
    "\n",
    "print(\"Best parameters: \", lgbm_cv.best_params_)\n",
    "print(\"Score: \", lgbm_cv.score(train, Survived))\n",
    "\n",
    "lgb_model = lgbm_cv.best_estimator_"
   ]
  },
  {
   "cell_type": "code",
   "execution_count": 142,
   "metadata": {},
   "outputs": [],
   "source": [
    "# submission for LGB\n",
    "lgb_pred = lgb_model.predict(test)\n",
    "\n",
    "# submission\n",
    "submission = pd.DataFrame(test_id)\n",
    "submission['Survived'] = lgb_pred\n",
    "submission.reset_index()\n",
    "submission.to_csv('Titanic_submission_lgb.csv', index = 0)\n",
    "\n",
    "# did not work, way too much overfitting"
   ]
  },
  {
   "cell_type": "markdown",
   "metadata": {},
   "source": [
    "*ADA Boost*"
   ]
  },
  {
   "cell_type": "code",
   "execution_count": 136,
   "metadata": {},
   "outputs": [
    {
     "name": "stdout",
     "output_type": "stream",
     "text": [
      "Best parameters:  {'algorithm': 'SAMME', 'learning_rate': 0.5, 'n_estimators': 500, 'random_state': 69}\n",
      "Score:  0.8204264870931538\n"
     ]
    }
   ],
   "source": [
    "ada = AdaBoostClassifier()\n",
    "\n",
    "grid = {\n",
    "    'n_estimators': [500],\n",
    "    'algorithm' : ['SAMME', 'SAMME.R'],\n",
    "    'learning_rate': [.001, .01, .5],\n",
    "    'random_state':[69]\n",
    "}\n",
    "\n",
    "ada_cv = GridSearchCV(ada, grid, cv = kfold)\n",
    "ada_cv.fit(train, Survived)\n",
    "\n",
    "print(\"Best parameters: \", ada_cv.best_params_)\n",
    "print(\"Score: \", ada_cv.score(train, Survived))\n",
    "\n",
    "ada_model = ada_cv.best_estimator_"
   ]
  },
  {
   "cell_type": "markdown",
   "metadata": {},
   "source": [
    "*Gradient Boost*"
   ]
  },
  {
   "cell_type": "code",
   "execution_count": 137,
   "metadata": {},
   "outputs": [
    {
     "name": "stdout",
     "output_type": "stream",
     "text": [
      "Best parameters:  {'n_estimators': 100, 'min_samples_split': 3, 'min_samples_leaf': 8, 'learning_rate': 0.1}\n",
      "Score:  0.8843995510662177\n"
     ]
    }
   ],
   "source": [
    "gb = GradientBoostingClassifier()\n",
    "\n",
    "param = {\n",
    "    'learning_rate' : [.1, .2, .4, .6, .8],\n",
    "    'n_estimators' : [100, 200, 400, 600],\n",
    "    'min_samples_split' : [2, 3, 4, 6],\n",
    "    'min_samples_leaf' : [1, 2, 4, 6, 8]\n",
    "}\n",
    "\n",
    "gb_cv = RandomizedSearchCV(gb, param, cv = kfold)\n",
    "gb_cv.fit(train, Survived)\n",
    "\n",
    "print(\"Best parameters: \", gb_cv.best_params_)\n",
    "print(\"Score: \", gb_cv.score(train, Survived))\n",
    "\n",
    "gb_model = gb_cv.best_estimator_"
   ]
  },
  {
   "cell_type": "markdown",
   "metadata": {},
   "source": [
    "**Voting Classifier**\n",
    "\n",
    "Didn't use SVM since the score was very weak."
   ]
  },
  {
   "cell_type": "code",
   "execution_count": 141,
   "metadata": {},
   "outputs": [
    {
     "name": "stdout",
     "output_type": "stream",
     "text": [
      "Accuracy: 0.82 (+/- 0.03) [Random Forest]\n",
      "Accuracy: 0.82 (+/- 0.01) [XGBoost]\n",
      "Accuracy: 0.81 (+/- 0.02) [Ada Boost]\n",
      "Accuracy: 0.79 (+/- 0.02) [Light GBM]\n",
      "Accuracy: 0.82 (+/- 0.01) [Gradient Boosting]\n",
      "Accuracy: 0.80 (+/- 0.01) [KNN]\n",
      "Accuracy: 0.82 (+/- 0.02) [Ensemble]\n"
     ]
    }
   ],
   "source": [
    "VC = VotingClassifier(estimators=[('rf', rf_model), ('xgb', xgb_model), ('ada', ada_model), ('lgb', lgb_model), ('gb', gb_model), ('knn', knn_model)], voting='soft')\n",
    "\n",
    "for clf, label in zip([rf_model, xgb_model, ada_model, lgb_model, gb_model, knn_model, VC], ['Random Forest','XGBoost','Ada Boost', 'Light GBM', 'Gradient Boosting', 'KNN', 'Ensemble']):\n",
    "    scores = cross_val_score(clf, train, Survived, cv=kfold, scoring='accuracy') \n",
    "    print(\"Accuracy: %0.2f (+/- %0.2f) [%s]\" % (scores.mean(), scores.std(), label))"
   ]
  },
  {
   "cell_type": "code",
   "execution_count": 143,
   "metadata": {},
   "outputs": [],
   "source": [
    "VC = VotingClassifier(estimators=[('rf', rf_model), ('xgb', xgb_model), ('gb', gb_model)], voting='soft')\n",
    "\n",
    "\n",
    "# the model\n",
    "prediction = VC.fit(train, Survived).predict(test)\n",
    "\n",
    "# submission\n",
    "submission = pd.DataFrame(prediction, columns=['Survived'])\n",
    "submission.insert(0, 'PassengerId', test_id)\n",
    "submission.reset_index()\n",
    "submission.to_csv('Titanic_submission_VC.csv', index = False)"
   ]
  },
  {
   "cell_type": "markdown",
   "metadata": {},
   "source": [
    "*Neural Networks*"
   ]
  },
  {
   "cell_type": "code",
   "execution_count": null,
   "metadata": {},
   "outputs": [],
   "source": [
    "import random\n",
    "random.seed(69)"
   ]
  },
  {
   "cell_type": "code",
   "execution_count": 144,
   "metadata": {},
   "outputs": [
    {
     "name": "stderr",
     "output_type": "stream",
     "text": [
      "Using TensorFlow backend.\n"
     ]
    }
   ],
   "source": [
    "import keras\n",
    "from keras.layers import Dense\n",
    "from keras.models import Sequential\n",
    "from keras.utils import to_categorical\n",
    "from keras.optimizers import SGD\n",
    "from keras.callbacks import EarlyStopping\n",
    "\n",
    "n_cols = train.shape[1]\n",
    "target = to_categorical(target)"
   ]
  },
  {
   "cell_type": "code",
   "execution_count": 153,
   "metadata": {},
   "outputs": [
    {
     "name": "stdout",
     "output_type": "stream",
     "text": [
      "Train on 623 samples, validate on 268 samples\n",
      "Epoch 1/30\n",
      "623/623 [==============================] - 0s 327us/step - loss: 0.7398 - acc: 0.3274 - val_loss: 0.7007 - val_acc: 0.5149\n",
      "Epoch 2/30\n",
      "623/623 [==============================] - 0s 75us/step - loss: 0.6822 - acc: 0.5795 - val_loss: 0.6500 - val_acc: 0.6679\n",
      "Epoch 3/30\n",
      "623/623 [==============================] - 0s 78us/step - loss: 0.6457 - acc: 0.6565 - val_loss: 0.6138 - val_acc: 0.6866\n",
      "Epoch 4/30\n",
      "623/623 [==============================] - 0s 71us/step - loss: 0.6183 - acc: 0.6806 - val_loss: 0.5880 - val_acc: 0.7052\n",
      "Epoch 5/30\n",
      "623/623 [==============================] - 0s 71us/step - loss: 0.5972 - acc: 0.7014 - val_loss: 0.5667 - val_acc: 0.7164\n",
      "Epoch 6/30\n",
      "623/623 [==============================] - 0s 69us/step - loss: 0.5795 - acc: 0.7255 - val_loss: 0.5487 - val_acc: 0.7463\n",
      "Epoch 7/30\n",
      "623/623 [==============================] - 0s 72us/step - loss: 0.5639 - acc: 0.7496 - val_loss: 0.5327 - val_acc: 0.7500\n",
      "Epoch 8/30\n",
      "623/623 [==============================] - 0s 70us/step - loss: 0.5502 - acc: 0.7576 - val_loss: 0.5191 - val_acc: 0.7612\n",
      "Epoch 9/30\n",
      "623/623 [==============================] - 0s 73us/step - loss: 0.5386 - acc: 0.7801 - val_loss: 0.5070 - val_acc: 0.7687\n",
      "Epoch 10/30\n",
      "623/623 [==============================] - 0s 76us/step - loss: 0.5285 - acc: 0.7833 - val_loss: 0.4961 - val_acc: 0.7687\n",
      "Epoch 11/30\n",
      "623/623 [==============================] - 0s 67us/step - loss: 0.5194 - acc: 0.7929 - val_loss: 0.4866 - val_acc: 0.7575\n",
      "Epoch 12/30\n",
      "623/623 [==============================] - 0s 58us/step - loss: 0.5116 - acc: 0.7881 - val_loss: 0.4779 - val_acc: 0.7724\n",
      "Epoch 13/30\n",
      "623/623 [==============================] - 0s 61us/step - loss: 0.5044 - acc: 0.7897 - val_loss: 0.4706 - val_acc: 0.7724\n",
      "Epoch 14/30\n",
      "623/623 [==============================] - 0s 62us/step - loss: 0.4981 - acc: 0.7881 - val_loss: 0.4639 - val_acc: 0.7761\n",
      "Epoch 15/30\n",
      "623/623 [==============================] - 0s 84us/step - loss: 0.4925 - acc: 0.7929 - val_loss: 0.4577 - val_acc: 0.7761\n",
      "Epoch 16/30\n",
      "623/623 [==============================] - 0s 68us/step - loss: 0.4875 - acc: 0.7929 - val_loss: 0.4517 - val_acc: 0.7761\n",
      "Epoch 17/30\n",
      "623/623 [==============================] - 0s 67us/step - loss: 0.4829 - acc: 0.7897 - val_loss: 0.4465 - val_acc: 0.7948\n",
      "Epoch 18/30\n",
      "623/623 [==============================] - 0s 69us/step - loss: 0.4789 - acc: 0.7945 - val_loss: 0.4419 - val_acc: 0.7985\n",
      "Epoch 19/30\n",
      "623/623 [==============================] - 0s 63us/step - loss: 0.4751 - acc: 0.7913 - val_loss: 0.4379 - val_acc: 0.8060\n",
      "Epoch 20/30\n",
      "623/623 [==============================] - 0s 55us/step - loss: 0.4717 - acc: 0.7913 - val_loss: 0.4348 - val_acc: 0.8060\n",
      "Epoch 21/30\n",
      "623/623 [==============================] - 0s 63us/step - loss: 0.4691 - acc: 0.7929 - val_loss: 0.4317 - val_acc: 0.8060\n",
      "Epoch 22/30\n",
      "623/623 [==============================] - 0s 72us/step - loss: 0.4664 - acc: 0.7945 - val_loss: 0.4284 - val_acc: 0.8097\n",
      "Epoch 23/30\n",
      "623/623 [==============================] - 0s 58us/step - loss: 0.4639 - acc: 0.7913 - val_loss: 0.4260 - val_acc: 0.8134\n",
      "Epoch 24/30\n",
      "623/623 [==============================] - 0s 70us/step - loss: 0.4617 - acc: 0.7945 - val_loss: 0.4236 - val_acc: 0.8172\n",
      "Epoch 25/30\n",
      "623/623 [==============================] - 0s 69us/step - loss: 0.4595 - acc: 0.7929 - val_loss: 0.4210 - val_acc: 0.8172\n",
      "Epoch 26/30\n",
      "623/623 [==============================] - 0s 65us/step - loss: 0.4577 - acc: 0.7961 - val_loss: 0.4192 - val_acc: 0.8172\n",
      "Epoch 27/30\n",
      "623/623 [==============================] - 0s 62us/step - loss: 0.4558 - acc: 0.7945 - val_loss: 0.4169 - val_acc: 0.8172\n",
      "Epoch 28/30\n",
      "623/623 [==============================] - 0s 57us/step - loss: 0.4541 - acc: 0.7961 - val_loss: 0.4150 - val_acc: 0.8172\n",
      "Epoch 29/30\n",
      "623/623 [==============================] - 0s 63us/step - loss: 0.4525 - acc: 0.8010 - val_loss: 0.4135 - val_acc: 0.8172\n",
      "Epoch 30/30\n",
      "623/623 [==============================] - 0s 60us/step - loss: 0.4507 - acc: 0.7961 - val_loss: 0.4118 - val_acc: 0.8209\n"
     ]
    },
    {
     "data": {
      "text/plain": [
       "<keras.callbacks.History at 0x1a16a31860>"
      ]
     },
     "execution_count": 153,
     "metadata": {},
     "output_type": "execute_result"
    }
   ],
   "source": [
    "model = Sequential()\n",
    "model.add(Dense(50, activation='relu', input_shape=(n_cols,)))\n",
    "model.add(Dense(50, activation='relu'))\n",
    "model.add(Dense(2, activation='softmax'))\n",
    "early_stopping_monitor = EarlyStopping(patience=3)\n",
    "my_optimizer = SGD(lr = 0.01)\n",
    "model.compile(optimizer=my_optimizer, loss='categorical_crossentropy', metrics=['accuracy'])\n",
    "model.fit(train, target, epochs=30, validation_split=0.3, callbacks=[early_stopping_monitor])"
   ]
  },
  {
   "cell_type": "code",
   "execution_count": 154,
   "metadata": {},
   "outputs": [],
   "source": [
    "# the model\n",
    "prediction = model.predict(test)\n",
    "prediction = pd.DataFrame(prediction, columns=['Survived', 'Did Not'])\n",
    "prediction = prediction.iloc[:,1]\n",
    "#y_classes = keras.np_utils.probas_to_classes(prediction)\n",
    "\n",
    "prediction[prediction > 0.5] = 1\n",
    "prediction[prediction <= 0.5] = 0\n",
    "prediction = prediction.astype(int)"
   ]
  },
  {
   "cell_type": "code",
   "execution_count": 155,
   "metadata": {},
   "outputs": [],
   "source": [
    "# submission\n",
    "submission = pd.DataFrame(test_id)\n",
    "submission['Survived'] = prediction\n",
    "submission.reset_index()\n",
    "submission.to_csv('Titanic_submission.csv', index = 0)"
   ]
  },
  {
   "cell_type": "code",
   "execution_count": null,
   "metadata": {},
   "outputs": [],
   "source": []
  },
  {
   "cell_type": "code",
   "execution_count": null,
   "metadata": {},
   "outputs": [],
   "source": []
  },
  {
   "cell_type": "code",
   "execution_count": null,
   "metadata": {},
   "outputs": [],
   "source": []
  }
 ],
 "metadata": {
  "kernelspec": {
   "display_name": "Python 3",
   "language": "python",
   "name": "python3"
  },
  "language_info": {
   "codemirror_mode": {
    "name": "ipython",
    "version": 3
   },
   "file_extension": ".py",
   "mimetype": "text/x-python",
   "name": "python",
   "nbconvert_exporter": "python",
   "pygments_lexer": "ipython3",
   "version": "3.6.4"
  }
 },
 "nbformat": 4,
 "nbformat_minor": 2
}
